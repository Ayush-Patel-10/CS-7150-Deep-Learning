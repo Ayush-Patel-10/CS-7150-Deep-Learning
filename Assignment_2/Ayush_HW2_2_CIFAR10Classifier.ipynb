{
 "cells": [
  {
   "cell_type": "markdown",
   "id": "0ff28b42",
   "metadata": {
    "id": "0ff28b42"
   },
   "source": [
    "This can be run [run on Google Colab using this link](https://colab.research.google.com/github/CS7150/CS7150-Homework-2/blob/main/HW2_2_CIFAR10Classifier.ipynb)\n",
    "\n",
    "<font size='6'>**Homework 2.2: Neural Network CIFAR-10 Classification**</font>"
   ]
  },
  {
   "cell_type": "markdown",
   "id": "0ef1d8e6",
   "metadata": {
    "id": "0ef1d8e6"
   },
   "source": [
    "<font size='5'>**Overview**</font>\n",
    "\n",
    "In this CS7150 assignment, our objective is to build a neural network featuring two fully-connected layers designed for classification purposes. We will evaluate the performance of this neural network by testing it on the CIFAR-10 dataset.\n",
    "\n",
    "This assignment adheres to a standard classification setup, which encompasses the use of a dataloader to load labeled image data in a natural form and training the model in a minibatch-based fashion.\n",
    "\n",
    "**Your assignment**: Your responsibility throughout this notebook is to thoroughly review the content and address all the conceptual and technical questions identified within the sections marked with \"Task\" headers and \"TODO:\" comments in the code."
   ]
  },
  {
   "cell_type": "markdown",
   "id": "ih2KqUX1Aj1G",
   "metadata": {
    "id": "ih2KqUX1Aj1G"
   },
   "source": [
    "<font size='5'>**I) Setup**</font>"
   ]
  },
  {
   "cell_type": "code",
   "execution_count": 1,
   "id": "1bGxnahJAlmm",
   "metadata": {
    "id": "1bGxnahJAlmm"
   },
   "outputs": [],
   "source": [
    "import os\n",
    "import torch\n",
    "from torch import nn\n",
    "from torchvision.datasets import CIFAR10\n",
    "from torchvision.transforms import Compose, ToTensor\n",
    "from torch.utils.data import DataLoader\n",
    "import matplotlib.pyplot as plt"
   ]
  },
  {
   "cell_type": "markdown",
   "id": "075f340c",
   "metadata": {
    "id": "075f340c"
   },
   "source": [
    "<font size='4'>**Device Setup**</font>"
   ]
  },
  {
   "cell_type": "markdown",
   "id": "33798935",
   "metadata": {
    "id": "33798935"
   },
   "source": [
    "\n",
    "We aim to enable model training on a GPU to expedite our computations. First, we'll check whether torch.cuda is accessible; if it is, we will utilize the GPU; otherwise, we will continue to using the CPU."
   ]
  },
  {
   "cell_type": "code",
   "execution_count": 2,
   "id": "c9a41951",
   "metadata": {
    "colab": {
     "base_uri": "https://localhost:8080/"
    },
    "id": "c9a41951",
    "outputId": "5bea37c8-cba8-4599-b3cf-0a3073e52229"
   },
   "outputs": [
    {
     "name": "stdout",
     "output_type": "stream",
     "text": [
      "Using cuda device\n"
     ]
    }
   ],
   "source": [
    "device = \"cuda\" if torch.cuda.is_available() else \"cpu\"\n",
    "print(f\"Using {device} device\")"
   ]
  },
  {
   "cell_type": "markdown",
   "id": "2d6db073",
   "metadata": {
    "id": "2d6db073"
   },
   "source": [
    "<font size='4'>**Loading CIFAR-10 Data**</font>"
   ]
  },
  {
   "cell_type": "markdown",
   "id": "af842fd2",
   "metadata": {
    "id": "af842fd2"
   },
   "source": [
    "The CIFAR-10 dataset comprises a collection of 60,000 32x32 color images distributed across ten distinct classes. These classes correspond to various objects and include airplanes, cars, birds, cats, deer, dogs, frogs, horses, ships, and trucks. Within each class, there are precisely 6,000 images."
   ]
  },
  {
   "cell_type": "code",
   "execution_count": 3,
   "id": "0c9c37c7",
   "metadata": {
    "colab": {
     "base_uri": "https://localhost:8080/"
    },
    "id": "0c9c37c7",
    "outputId": "c05e13f3-c642-412e-84b6-475d1ec58640"
   },
   "outputs": [
    {
     "name": "stdout",
     "output_type": "stream",
     "text": [
      "Files already downloaded and verified\n",
      "Files already downloaded and verified\n",
      "Datatype of the dataset object: <class 'torchvision.datasets.cifar.CIFAR10'>\n",
      "Number of samples in training data: 50000\n",
      "Number of samples in test data: 10000\n",
      "Format of the dataset: \n",
      " Dataset CIFAR10\n",
      "    Number of datapoints: 50000\n",
      "    Root location: cifar10_data\n",
      "    Split: Train\n",
      "    StandardTransform\n",
      "Transform: Compose(\n",
      "               ToTensor()\n",
      "           )\n"
     ]
    }
   ],
   "source": [
    "# downloading cifar10 into folder\n",
    "data_dir = 'cifar10_data' # make sure that this folder is created in your working dir\n",
    "\n",
    "#TODO: Fill out train_data and test_data variables using CIFAR10 (i.e., torchvision.datasets.CIFAR)\n",
    "train_data = CIFAR10(data_dir, train=True, download=True, transform=Compose([ToTensor()]))\n",
    "test_data = CIFAR10(data_dir, train=False, download=True, transform=Compose([ToTensor()]))\n",
    "#train_data = None\n",
    "#test_data = None\n",
    "print(f'Datatype of the dataset object: {type(train_data)}')\n",
    "# check the length of dataset\n",
    "print(f'Number of samples in training data: {len(train_data)}')\n",
    "print(f'Number of samples in test data: {len(test_data)}')\n",
    "# Check the format of dataset\n",
    "print(f'Format of the dataset: \\n {train_data}')"
   ]
  },
  {
   "cell_type": "markdown",
   "id": "507b2b64",
   "metadata": {
    "id": "507b2b64"
   },
   "source": [
    "### <font size='4'>**Displaying Loaded Dataset**</font>"
   ]
  },
  {
   "cell_type": "code",
   "execution_count": 4,
   "id": "22b496c9",
   "metadata": {
    "colab": {
     "base_uri": "https://localhost:8080/",
     "height": 438
    },
    "id": "22b496c9",
    "outputId": "ace03255-ec3e-4ae0-d4d2-cc05461a99b4"
   },
   "outputs": [
    {
     "data": {
      "image/png": "[encoded data removed]",
      "text/plain": [
       "<Figure size 432x288 with 6 Axes>"
      ]
     },
     "metadata": {},
     "output_type": "display_data"
    }
   ],
   "source": [
    "fig = plt.figure()\n",
    "for i in range(6):\n",
    "  plt.subplot(2, 3, i+1)\n",
    "  plt.tight_layout()\n",
    "  plt.imshow(train_data[i][0][0], cmap='gray', interpolation='none')\n",
    "  plt.title(\"Class Label: {}\".format(train_data[i][1]))\n",
    "  plt.xticks([])\n",
    "  plt.yticks([])"
   ]
  },
  {
   "cell_type": "markdown",
   "id": "f4b11341",
   "metadata": {
    "id": "f4b11341"
   },
   "source": [
    "## <font size='5'>**II) Building a Neural Network**</font>"
   ]
  },
  {
   "cell_type": "markdown",
   "id": "a180f9c7",
   "metadata": {
    "id": "a180f9c7"
   },
   "source": [
    "### <font size='4'>**1) Defining `CIFAR10Classifier` class**</font>"
   ]
  },
  {
   "cell_type": "markdown",
   "id": "003e4e25",
   "metadata": {
    "id": "003e4e25"
   },
   "source": [
    "<font size='4' color='Red'>Task 1.1 - Defining `CIFAR10Classifier` class (4 points)</font>\n",
    "\n",
    "In the following class, make adjustments to the following attributes: flatten, hidden_size, class_size, and linear_relu_stack. Ensure that the linear_relu_stack consists of a minimum of two linear layers combined with a non-linear activation layer."
   ]
  },
  {
   "cell_type": "code",
   "execution_count": 5,
   "id": "bd2c5289",
   "metadata": {
    "id": "bd2c5289"
   },
   "outputs": [],
   "source": [
    "import torch.nn as nn\n",
    "\n",
    "input_size = 3 * 32 * 32\n",
    "hidden_size = 128\n",
    "num_classes = 10\n",
    "\n",
    "class CIFAR10Classifier(nn.Module):\n",
    "    def __init__(self, input_size, hidden_size, num_classes):\n",
    "        super(CIFAR10Classifier, self).__init__()\n",
    "        ########################################################################\n",
    "        # TODO: Complete the following variables as instructed earlier\n",
    "        ########################################################################\n",
    "        self.flatten = nn.Flatten()\n",
    "        self.hidden_size = hidden_size\n",
    "        self.class_size = num_classes\n",
    "        self.linear_relu_stack = nn.Sequential(\n",
    "            nn.Linear(input_size, hidden_size),\n",
    "            nn.ReLU(),\n",
    "            nn.Linear(hidden_size, hidden_size),  \n",
    "            nn.ReLU(),\n",
    "            nn.Linear(hidden_size, num_classes)\n",
    "        )\n",
    "        ########################################################################\n",
    "        #                             END OF YOUR CODE                         #\n",
    "        ########################################################################\n",
    "\n",
    "    def forward(self, x):\n",
    "        x = self.flatten(x)\n",
    "        logits = self.linear_relu_stack(x)\n",
    "        return logits"
   ]
  },
  {
   "cell_type": "markdown",
   "id": "720bfbd5",
   "metadata": {
    "id": "720bfbd5"
   },
   "source": [
    "### <font size='4'>**2) Training a Neural Network**</font>"
   ]
  },
  {
   "cell_type": "markdown",
   "id": "fU8M2hZKKIqf",
   "metadata": {
    "id": "fU8M2hZKKIqf"
   },
   "source": [
    "<font size='4' color='Red'>Task 1.2 - Defining parameters (3 points)</font>"
   ]
  },
  {
   "cell_type": "markdown",
   "id": "nWQyEYmrDSV3",
   "metadata": {
    "id": "nWQyEYmrDSV3"
   },
   "source": [
    "Let's create an instance of `CIFAR10Classifier` and move it to the device. After doing so, we define the following hyperparameters for training:\n",
    "\n",
    "- **Number of Epochs**: This signifies the number of iterations over the dataset.\n",
    "- **Batch Size**: It represents the number of data samples that propagate through the network before parameter updates.\n",
    "- **Learning Rate**: This parameter determines the extent of model parameter updates during each batch/epoch. Smaller values lead to slower learning, while larger values may introduce instability during training.\n",
    "\n",
    "**Your Task**:\n",
    "\n",
    "1. Set `learning_rate` to 1e-3, `batch_size` to 64, and `epochs` to 10 initially. Experiment with different values and retain the final choices that yield the highest testing accuracy.\n",
    "\n",
    "2. Select an appropriate loss function. You should experiment with different options, such as `CrossEntropyLoss()`, `MSELoss()`, and any others, and choose the one that best suits the task.\n",
    "\n",
    "3. Define the `optimizer` variable using any optimizer function (e.g., SGD, Adam, etc.). Be sure to explore different parameter values within the chosen optimizer function.\n",
    "\n",
    "4. Remember to record your ultimate choices for each variable that contribute to achieving the best performance for your `CIFAR10Classifier`. To receive full credit for this assignment, your model should attain a classification accuracy of over 50% on the test set."
   ]
  },
  {
   "cell_type": "code",
   "execution_count": 6,
   "id": "WSTgaNxI9c5f",
   "metadata": {
    "id": "WSTgaNxI9c5f"
   },
   "outputs": [],
   "source": [
    "model = CIFAR10Classifier(input_size, hidden_size, num_classes).to(device)\n",
    "model.requires_grad_(True)\n",
    "\n",
    "########################################################################\n",
    "# TODO: Complete the following variables as instructed earlier\n",
    "########################################################################\n",
    "\n",
    "learning_rate = 1e-4\n",
    "batch_size = 32\n",
    "epochs = 30\n",
    "loss_fn = nn.CrossEntropyLoss()\n",
    "optimizer = torch.optim.Adam(model.parameters(), lr=learning_rate)\n",
    "\n",
    "########################################################################\n",
    "#                             END OF YOUR CODE                         #\n",
    "########################################################################"
   ]
  },
  {
   "cell_type": "markdown",
   "id": "556ce020",
   "metadata": {
    "id": "556ce020"
   },
   "source": [
    "### <font size='4'>**3) Train Loop**</font>"
   ]
  },
  {
   "cell_type": "code",
   "execution_count": 7,
   "id": "0cf5e0b8",
   "metadata": {
    "id": "0cf5e0b8"
   },
   "outputs": [],
   "source": [
    "train_dataloader = DataLoader(train_data, batch_size=batch_size)\n",
    "test_dataloader = DataLoader(test_data, batch_size=batch_size)"
   ]
  },
  {
   "cell_type": "markdown",
   "id": "a43130c9",
   "metadata": {
    "id": "a43130c9"
   },
   "source": [
    "In the above cell, we used a Dataloader to create batches for training and testing data. For each batch of size indicated in the batch_size hyperparameter, we perform backprop and update the model parameters' weights and biases.\n",
    "\n",
    "In the following cell, we define our train_loop."
   ]
  },
  {
   "cell_type": "code",
   "execution_count": 8,
   "id": "fa4eeed5",
   "metadata": {
    "id": "fa4eeed5"
   },
   "outputs": [],
   "source": [
    "def train_loop(dataloader, model, loss_fn, optimizer, print_log=True):\n",
    "    size = len(dataloader.dataset)\n",
    "    correct = 0\n",
    "    training_acc = 0\n",
    "    training_loss = 0\n",
    "    for batch, (X, y) in enumerate(dataloader):\n",
    "        # Compute prediction and loss\n",
    "        pred = model(X.to(device))\n",
    "        loss = loss_fn(pred, y.to(device))\n",
    "        correct += (pred.argmax(1) == y.to(device)).type(torch.float).sum().item()\n",
    "\n",
    "        # Backpropagation\n",
    "        optimizer.zero_grad()\n",
    "        loss.backward()\n",
    "        optimizer.step()\n",
    "        loss, current = loss.item(), batch * len(X)\n",
    "        training_loss = loss\n",
    "        if (print_log==True) and (batch % 100 == 0):\n",
    "            print(f\"\"\"Training loop: loss: {loss:>7f}  [{current:>5d}/{size:>5d}]\"\"\")\n",
    "    correct /= size\n",
    "    training_acc = 100*correct\n",
    "    if (print_log==True):\n",
    "        print(f\"\"\"Training Accuracy: {training_acc:>0.1f}%\"\"\")\n",
    "    return training_acc, training_loss"
   ]
  },
  {
   "cell_type": "markdown",
   "id": "2b6072ee",
   "metadata": {
    "id": "2b6072ee"
   },
   "source": [
    "### <font size='4'>**4) Test Loop**</font>"
   ]
  },
  {
   "cell_type": "markdown",
   "id": "ba22bb45",
   "metadata": {
    "id": "ba22bb45"
   },
   "source": [
    "In the test loop, we iterate over the test dataset to check if model performance is improving."
   ]
  },
  {
   "cell_type": "code",
   "execution_count": 9,
   "id": "a05d6353",
   "metadata": {
    "id": "a05d6353"
   },
   "outputs": [],
   "source": [
    "def test_loop(dataloader, model, loss_fn, print_log=True):\n",
    "    size = len(dataloader.dataset)\n",
    "    num_batches = len(dataloader)\n",
    "    test_loss, correct = 0, 0\n",
    "\n",
    "    with torch.no_grad():\n",
    "        for X, y in dataloader:\n",
    "            pred = model(X.to(device))\n",
    "            test_loss += loss_fn(pred, y.to(device)).item()\n",
    "            correct += (pred.argmax(1) == y.to(device)).type(torch.float).sum().item()\n",
    "\n",
    "    test_loss /= num_batches\n",
    "    correct /= size\n",
    "    testing_acc = 100*correct\n",
    "    if (print_log==True):\n",
    "        print(f\"Testing Accuracy: {testing_acc:>0.1f}%, Avg loss: {test_loss:>8f} \\n\")\n",
    "    return testing_acc, test_loss"
   ]
  },
  {
   "cell_type": "markdown",
   "id": "d10b7c82",
   "metadata": {
    "id": "d10b7c82"
   },
   "source": [
    "### <font size='4'>**5) Running the loops**</font>"
   ]
  },
  {
   "cell_type": "markdown",
   "id": "4245bd36",
   "metadata": {
    "id": "4245bd36"
   },
   "source": [
    "We run our loops for a certain number of times, which is indicated in the 'epoch' hyperparameter that we defined earlier. In the following cell, we run both our training and testing loop to see how our training and testing accuracies change over time."
   ]
  },
  {
   "cell_type": "code",
   "execution_count": 10,
   "id": "836fc7f0",
   "metadata": {
    "colab": {
     "base_uri": "https://localhost:8080/"
    },
    "id": "836fc7f0",
    "outputId": "175946c9-02c5-40e6-8fbf-cd3ccf7491ad"
   },
   "outputs": [
    {
     "name": "stdout",
     "output_type": "stream",
     "text": [
      "Epoch 1\n",
      "-------------------------------\n",
      "Training loop: loss: 2.314886  [    0/50000]\n",
      "Training loop: loss: 2.193561  [ 3200/50000]\n",
      "Training loop: loss: 2.043973  [ 6400/50000]\n",
      "Training loop: loss: 2.030075  [ 9600/50000]\n",
      "Training loop: loss: 1.818897  [12800/50000]\n",
      "Training loop: loss: 1.909816  [16000/50000]\n",
      "Training loop: loss: 2.003739  [19200/50000]\n",
      "Training loop: loss: 1.858791  [22400/50000]\n",
      "Training loop: loss: 1.936912  [25600/50000]\n",
      "Training loop: loss: 1.908845  [28800/50000]\n",
      "Training loop: loss: 1.911031  [32000/50000]\n",
      "Training loop: loss: 1.889141  [35200/50000]\n",
      "Training loop: loss: 2.168643  [38400/50000]\n",
      "Training loop: loss: 1.773974  [41600/50000]\n",
      "Training loop: loss: 1.849746  [44800/50000]\n",
      "Training loop: loss: 2.144276  [48000/50000]\n",
      "Training Accuracy: 29.9%\n",
      "Testing Accuracy: 35.9%, Avg loss: 1.816161 \n",
      "\n",
      "Epoch 2\n",
      "-------------------------------\n",
      "Training loop: loss: 1.828200  [    0/50000]\n",
      "Training loop: loss: 1.861951  [ 3200/50000]\n",
      "Training loop: loss: 1.746077  [ 6400/50000]\n",
      "Training loop: loss: 1.761348  [ 9600/50000]\n",
      "Training loop: loss: 1.524552  [12800/50000]\n",
      "Training loop: loss: 1.736167  [16000/50000]\n",
      "Training loop: loss: 1.825648  [19200/50000]\n",
      "Training loop: loss: 1.775352  [22400/50000]\n",
      "Training loop: loss: 1.809666  [25600/50000]\n",
      "Training loop: loss: 1.671462  [28800/50000]\n",
      "Training loop: loss: 1.788720  [32000/50000]\n",
      "Training loop: loss: 1.759695  [35200/50000]\n",
      "Training loop: loss: 1.970241  [38400/50000]\n",
      "Training loop: loss: 1.648428  [41600/50000]\n",
      "Training loop: loss: 1.714796  [44800/50000]\n",
      "Training loop: loss: 2.135656  [48000/50000]\n",
      "Training Accuracy: 37.4%\n",
      "Testing Accuracy: 40.0%, Avg loss: 1.706233 \n",
      "\n",
      "Epoch 3\n",
      "-------------------------------\n",
      "Training loop: loss: 1.766638  [    0/50000]\n",
      "Training loop: loss: 1.781223  [ 3200/50000]\n",
      "Training loop: loss: 1.654960  [ 6400/50000]\n",
      "Training loop: loss: 1.631744  [ 9600/50000]\n",
      "Training loop: loss: 1.427785  [12800/50000]\n",
      "Training loop: loss: 1.574891  [16000/50000]\n",
      "Training loop: loss: 1.765544  [19200/50000]\n",
      "Training loop: loss: 1.702250  [22400/50000]\n",
      "Training loop: loss: 1.629714  [25600/50000]\n",
      "Training loop: loss: 1.533726  [28800/50000]\n",
      "Training loop: loss: 1.736811  [32000/50000]\n",
      "Training loop: loss: 1.694347  [35200/50000]\n",
      "Training loop: loss: 1.829831  [38400/50000]\n",
      "Training loop: loss: 1.530585  [41600/50000]\n",
      "Training loop: loss: 1.651703  [44800/50000]\n",
      "Training loop: loss: 2.124695  [48000/50000]\n",
      "Training Accuracy: 40.4%\n",
      "Testing Accuracy: 42.0%, Avg loss: 1.639841 \n",
      "\n",
      "Epoch 4\n",
      "-------------------------------\n",
      "Training loop: loss: 1.767226  [    0/50000]\n",
      "Training loop: loss: 1.699914  [ 3200/50000]\n",
      "Training loop: loss: 1.574025  [ 6400/50000]\n",
      "Training loop: loss: 1.555562  [ 9600/50000]\n",
      "Training loop: loss: 1.376110  [12800/50000]\n",
      "Training loop: loss: 1.474492  [16000/50000]\n",
      "Training loop: loss: 1.727387  [19200/50000]\n",
      "Training loop: loss: 1.644792  [22400/50000]\n",
      "Training loop: loss: 1.545036  [25600/50000]\n",
      "Training loop: loss: 1.475910  [28800/50000]\n",
      "Training loop: loss: 1.691434  [32000/50000]\n",
      "Training loop: loss: 1.651695  [35200/50000]\n",
      "Training loop: loss: 1.759733  [38400/50000]\n",
      "Training loop: loss: 1.449472  [41600/50000]\n",
      "Training loop: loss: 1.617444  [44800/50000]\n",
      "Training loop: loss: 2.100245  [48000/50000]\n",
      "Training Accuracy: 42.4%\n",
      "Testing Accuracy: 43.5%, Avg loss: 1.600537 \n",
      "\n",
      "Epoch 5\n",
      "-------------------------------\n",
      "Training loop: loss: 1.748208  [    0/50000]\n",
      "Training loop: loss: 1.624817  [ 3200/50000]\n",
      "Training loop: loss: 1.505332  [ 6400/50000]\n",
      "Training loop: loss: 1.495032  [ 9600/50000]\n",
      "Training loop: loss: 1.336365  [12800/50000]\n",
      "Training loop: loss: 1.404730  [16000/50000]\n",
      "Training loop: loss: 1.691325  [19200/50000]\n",
      "Training loop: loss: 1.598970  [22400/50000]\n",
      "Training loop: loss: 1.481728  [25600/50000]\n",
      "Training loop: loss: 1.442508  [28800/50000]\n",
      "Training loop: loss: 1.645510  [32000/50000]\n",
      "Training loop: loss: 1.619126  [35200/50000]\n",
      "Training loop: loss: 1.715818  [38400/50000]\n",
      "Training loop: loss: 1.417306  [41600/50000]\n",
      "Training loop: loss: 1.609585  [44800/50000]\n",
      "Training loop: loss: 2.104915  [48000/50000]\n",
      "Training Accuracy: 43.8%\n",
      "Testing Accuracy: 44.5%, Avg loss: 1.571326 \n",
      "\n",
      "Epoch 6\n",
      "-------------------------------\n",
      "Training loop: loss: 1.719416  [    0/50000]\n",
      "Training loop: loss: 1.577002  [ 3200/50000]\n",
      "Training loop: loss: 1.442165  [ 6400/50000]\n",
      "Training loop: loss: 1.460150  [ 9600/50000]\n",
      "Training loop: loss: 1.304610  [12800/50000]\n",
      "Training loop: loss: 1.360600  [16000/50000]\n",
      "Training loop: loss: 1.657396  [19200/50000]\n",
      "Training loop: loss: 1.584361  [22400/50000]\n",
      "Training loop: loss: 1.466036  [25600/50000]\n",
      "Training loop: loss: 1.421350  [28800/50000]\n",
      "Training loop: loss: 1.607077  [32000/50000]\n",
      "Training loop: loss: 1.604070  [35200/50000]\n",
      "Training loop: loss: 1.675605  [38400/50000]\n",
      "Training loop: loss: 1.396133  [41600/50000]\n",
      "Training loop: loss: 1.588216  [44800/50000]\n",
      "Training loop: loss: 2.101649  [48000/50000]\n",
      "Training Accuracy: 45.0%\n",
      "Testing Accuracy: 45.2%, Avg loss: 1.548713 \n",
      "\n",
      "Epoch 7\n",
      "-------------------------------\n",
      "Training loop: loss: 1.701083  [    0/50000]\n",
      "Training loop: loss: 1.546489  [ 3200/50000]\n",
      "Training loop: loss: 1.398751  [ 6400/50000]\n",
      "Training loop: loss: 1.422381  [ 9600/50000]\n",
      "Training loop: loss: 1.287219  [12800/50000]\n",
      "Training loop: loss: 1.308085  [16000/50000]\n",
      "Training loop: loss: 1.638267  [19200/50000]\n",
      "Training loop: loss: 1.569563  [22400/50000]\n",
      "Training loop: loss: 1.446814  [25600/50000]\n",
      "Training loop: loss: 1.401492  [28800/50000]\n",
      "Training loop: loss: 1.585732  [32000/50000]\n",
      "Training loop: loss: 1.589181  [35200/50000]\n",
      "Training loop: loss: 1.646615  [38400/50000]\n",
      "Training loop: loss: 1.365891  [41600/50000]\n",
      "Training loop: loss: 1.567042  [44800/50000]\n",
      "Training loop: loss: 2.093012  [48000/50000]\n",
      "Training Accuracy: 45.9%\n",
      "Testing Accuracy: 46.1%, Avg loss: 1.528725 \n",
      "\n",
      "Epoch 8\n",
      "-------------------------------\n",
      "Training loop: loss: 1.675481  [    0/50000]\n",
      "Training loop: loss: 1.516099  [ 3200/50000]\n",
      "Training loop: loss: 1.350253  [ 6400/50000]\n",
      "Training loop: loss: 1.403882  [ 9600/50000]\n",
      "Training loop: loss: 1.259140  [12800/50000]\n",
      "Training loop: loss: 1.269922  [16000/50000]\n",
      "Training loop: loss: 1.629193  [19200/50000]\n",
      "Training loop: loss: 1.559834  [22400/50000]\n",
      "Training loop: loss: 1.428107  [25600/50000]\n",
      "Training loop: loss: 1.394818  [28800/50000]\n",
      "Training loop: loss: 1.569278  [32000/50000]\n",
      "Training loop: loss: 1.560667  [35200/50000]\n",
      "Training loop: loss: 1.617217  [38400/50000]\n",
      "Training loop: loss: 1.341231  [41600/50000]\n",
      "Training loop: loss: 1.574298  [44800/50000]\n",
      "Training loop: loss: 2.078253  [48000/50000]\n",
      "Training Accuracy: 46.9%\n",
      "Testing Accuracy: 46.8%, Avg loss: 1.510414 \n",
      "\n",
      "Epoch 9\n",
      "-------------------------------\n",
      "Training loop: loss: 1.653190  [    0/50000]\n",
      "Training loop: loss: 1.489484  [ 3200/50000]\n",
      "Training loop: loss: 1.328073  [ 6400/50000]\n",
      "Training loop: loss: 1.379849  [ 9600/50000]\n",
      "Training loop: loss: 1.245206  [12800/50000]\n",
      "Training loop: loss: 1.242455  [16000/50000]\n",
      "Training loop: loss: 1.629982  [19200/50000]\n",
      "Training loop: loss: 1.524878  [22400/50000]\n",
      "Training loop: loss: 1.406867  [25600/50000]\n",
      "Training loop: loss: 1.389177  [28800/50000]\n",
      "Training loop: loss: 1.546735  [32000/50000]\n",
      "Training loop: loss: 1.526922  [35200/50000]\n",
      "Training loop: loss: 1.595620  [38400/50000]\n",
      "Training loop: loss: 1.334860  [41600/50000]\n",
      "Training loop: loss: 1.550961  [44800/50000]\n",
      "Training loop: loss: 2.092790  [48000/50000]\n",
      "Training Accuracy: 47.7%\n",
      "Testing Accuracy: 47.3%, Avg loss: 1.493367 \n",
      "\n",
      "Epoch 10\n",
      "-------------------------------\n",
      "Training loop: loss: 1.629177  [    0/50000]\n",
      "Training loop: loss: 1.448025  [ 3200/50000]\n",
      "Training loop: loss: 1.322186  [ 6400/50000]\n",
      "Training loop: loss: 1.371276  [ 9600/50000]\n",
      "Training loop: loss: 1.227520  [12800/50000]\n",
      "Training loop: loss: 1.236204  [16000/50000]\n",
      "Training loop: loss: 1.626650  [19200/50000]\n",
      "Training loop: loss: 1.496125  [22400/50000]\n",
      "Training loop: loss: 1.382213  [25600/50000]\n",
      "Training loop: loss: 1.372426  [28800/50000]\n",
      "Training loop: loss: 1.529902  [32000/50000]\n",
      "Training loop: loss: 1.489549  [35200/50000]\n",
      "Training loop: loss: 1.578411  [38400/50000]\n",
      "Training loop: loss: 1.329011  [41600/50000]\n",
      "Training loop: loss: 1.537919  [44800/50000]\n",
      "Training loop: loss: 2.087259  [48000/50000]\n",
      "Training Accuracy: 48.4%\n",
      "Testing Accuracy: 48.0%, Avg loss: 1.480159 \n",
      "\n",
      "Epoch 11\n",
      "-------------------------------\n",
      "Training loop: loss: 1.592408  [    0/50000]\n",
      "Training loop: loss: 1.428793  [ 3200/50000]\n",
      "Training loop: loss: 1.299298  [ 6400/50000]\n",
      "Training loop: loss: 1.355483  [ 9600/50000]\n",
      "Training loop: loss: 1.238147  [12800/50000]\n",
      "Training loop: loss: 1.206001  [16000/50000]\n",
      "Training loop: loss: 1.612655  [19200/50000]\n",
      "Training loop: loss: 1.476440  [22400/50000]\n",
      "Training loop: loss: 1.372964  [25600/50000]\n",
      "Training loop: loss: 1.353593  [28800/50000]\n",
      "Training loop: loss: 1.516876  [32000/50000]\n",
      "Training loop: loss: 1.468065  [35200/50000]\n",
      "Training loop: loss: 1.559897  [38400/50000]\n",
      "Training loop: loss: 1.310190  [41600/50000]\n",
      "Training loop: loss: 1.536591  [44800/50000]\n",
      "Training loop: loss: 2.078768  [48000/50000]\n",
      "Training Accuracy: 49.2%\n",
      "Testing Accuracy: 48.2%, Avg loss: 1.471388 \n",
      "\n",
      "Epoch 12\n",
      "-------------------------------\n",
      "Training loop: loss: 1.565323  [    0/50000]\n",
      "Training loop: loss: 1.412404  [ 3200/50000]\n",
      "Training loop: loss: 1.290494  [ 6400/50000]\n",
      "Training loop: loss: 1.337994  [ 9600/50000]\n",
      "Training loop: loss: 1.244988  [12800/50000]\n",
      "Training loop: loss: 1.174614  [16000/50000]\n",
      "Training loop: loss: 1.580334  [19200/50000]\n",
      "Training loop: loss: 1.452795  [22400/50000]\n",
      "Training loop: loss: 1.356915  [25600/50000]\n",
      "Training loop: loss: 1.339572  [28800/50000]\n",
      "Training loop: loss: 1.503105  [32000/50000]\n",
      "Training loop: loss: 1.445802  [35200/50000]\n",
      "Training loop: loss: 1.551984  [38400/50000]\n",
      "Training loop: loss: 1.306484  [41600/50000]\n",
      "Training loop: loss: 1.529230  [44800/50000]\n",
      "Training loop: loss: 2.086662  [48000/50000]\n",
      "Training Accuracy: 49.7%\n",
      "Testing Accuracy: 48.3%, Avg loss: 1.461849 \n",
      "\n",
      "Epoch 13\n",
      "-------------------------------\n",
      "Training loop: loss: 1.540406  [    0/50000]\n",
      "Training loop: loss: 1.408143  [ 3200/50000]\n",
      "Training loop: loss: 1.278812  [ 6400/50000]\n",
      "Training loop: loss: 1.319071  [ 9600/50000]\n",
      "Training loop: loss: 1.238469  [12800/50000]\n",
      "Training loop: loss: 1.154768  [16000/50000]\n",
      "Training loop: loss: 1.550643  [19200/50000]\n",
      "Training loop: loss: 1.423151  [22400/50000]\n",
      "Training loop: loss: 1.340095  [25600/50000]\n",
      "Training loop: loss: 1.328289  [28800/50000]\n",
      "Training loop: loss: 1.488323  [32000/50000]\n",
      "Training loop: loss: 1.438796  [35200/50000]\n",
      "Training loop: loss: 1.522394  [38400/50000]\n",
      "Training loop: loss: 1.284326  [41600/50000]\n",
      "Training loop: loss: 1.514014  [44800/50000]\n",
      "Training loop: loss: 2.082884  [48000/50000]\n",
      "Training Accuracy: 50.3%\n",
      "Testing Accuracy: 48.9%, Avg loss: 1.451695 \n",
      "\n",
      "Epoch 14\n",
      "-------------------------------\n",
      "Training loop: loss: 1.499299  [    0/50000]\n",
      "Training loop: loss: 1.399957  [ 3200/50000]\n",
      "Training loop: loss: 1.266629  [ 6400/50000]\n",
      "Training loop: loss: 1.309288  [ 9600/50000]\n",
      "Training loop: loss: 1.248804  [12800/50000]\n",
      "Training loop: loss: 1.133551  [16000/50000]\n",
      "Training loop: loss: 1.520828  [19200/50000]\n",
      "Training loop: loss: 1.402455  [22400/50000]\n",
      "Training loop: loss: 1.323170  [25600/50000]\n",
      "Training loop: loss: 1.306955  [28800/50000]\n",
      "Training loop: loss: 1.482212  [32000/50000]\n",
      "Training loop: loss: 1.429137  [35200/50000]\n",
      "Training loop: loss: 1.516305  [38400/50000]\n",
      "Training loop: loss: 1.286749  [41600/50000]\n",
      "Training loop: loss: 1.506059  [44800/50000]\n",
      "Training loop: loss: 2.073578  [48000/50000]\n",
      "Training Accuracy: 50.8%\n",
      "Testing Accuracy: 49.1%, Avg loss: 1.443365 \n",
      "\n",
      "Epoch 15\n",
      "-------------------------------\n",
      "Training loop: loss: 1.482301  [    0/50000]\n",
      "Training loop: loss: 1.391553  [ 3200/50000]\n",
      "Training loop: loss: 1.261150  [ 6400/50000]\n",
      "Training loop: loss: 1.282419  [ 9600/50000]\n",
      "Training loop: loss: 1.245287  [12800/50000]\n",
      "Training loop: loss: 1.113366  [16000/50000]\n",
      "Training loop: loss: 1.502297  [19200/50000]\n",
      "Training loop: loss: 1.387297  [22400/50000]\n",
      "Training loop: loss: 1.304170  [25600/50000]\n",
      "Training loop: loss: 1.294596  [28800/50000]\n",
      "Training loop: loss: 1.483936  [32000/50000]\n",
      "Training loop: loss: 1.414541  [35200/50000]\n",
      "Training loop: loss: 1.502910  [38400/50000]\n",
      "Training loop: loss: 1.273844  [41600/50000]\n",
      "Training loop: loss: 1.488662  [44800/50000]\n",
      "Training loop: loss: 2.042260  [48000/50000]\n",
      "Training Accuracy: 51.1%\n",
      "Testing Accuracy: 49.4%, Avg loss: 1.435163 \n",
      "\n",
      "Epoch 16\n",
      "-------------------------------\n",
      "Training loop: loss: 1.455886  [    0/50000]\n",
      "Training loop: loss: 1.382568  [ 3200/50000]\n",
      "Training loop: loss: 1.249343  [ 6400/50000]\n",
      "Training loop: loss: 1.267502  [ 9600/50000]\n",
      "Training loop: loss: 1.230849  [12800/50000]\n",
      "Training loop: loss: 1.101360  [16000/50000]\n",
      "Training loop: loss: 1.491009  [19200/50000]\n",
      "Training loop: loss: 1.366243  [22400/50000]\n",
      "Training loop: loss: 1.284797  [25600/50000]\n",
      "Training loop: loss: 1.291473  [28800/50000]\n",
      "Training loop: loss: 1.468422  [32000/50000]\n",
      "Training loop: loss: 1.397941  [35200/50000]\n",
      "Training loop: loss: 1.489474  [38400/50000]\n",
      "Training loop: loss: 1.252542  [41600/50000]\n",
      "Training loop: loss: 1.474479  [44800/50000]\n",
      "Training loop: loss: 2.050674  [48000/50000]\n",
      "Training Accuracy: 51.6%\n",
      "Testing Accuracy: 49.7%, Avg loss: 1.428251 \n",
      "\n",
      "Epoch 17\n",
      "-------------------------------\n",
      "Training loop: loss: 1.420105  [    0/50000]\n",
      "Training loop: loss: 1.363321  [ 3200/50000]\n",
      "Training loop: loss: 1.253800  [ 6400/50000]\n",
      "Training loop: loss: 1.245031  [ 9600/50000]\n",
      "Training loop: loss: 1.230087  [12800/50000]\n",
      "Training loop: loss: 1.082497  [16000/50000]\n",
      "Training loop: loss: 1.480090  [19200/50000]\n",
      "Training loop: loss: 1.364860  [22400/50000]\n",
      "Training loop: loss: 1.262573  [25600/50000]\n",
      "Training loop: loss: 1.277377  [28800/50000]\n",
      "Training loop: loss: 1.461080  [32000/50000]\n",
      "Training loop: loss: 1.383056  [35200/50000]\n",
      "Training loop: loss: 1.482980  [38400/50000]\n",
      "Training loop: loss: 1.236659  [41600/50000]\n",
      "Training loop: loss: 1.459656  [44800/50000]\n",
      "Training loop: loss: 2.021890  [48000/50000]\n",
      "Training Accuracy: 52.0%\n",
      "Testing Accuracy: 50.1%, Avg loss: 1.421554 \n",
      "\n",
      "Epoch 18\n",
      "-------------------------------\n",
      "Training loop: loss: 1.396904  [    0/50000]\n",
      "Training loop: loss: 1.357212  [ 3200/50000]\n",
      "Training loop: loss: 1.243320  [ 6400/50000]\n",
      "Training loop: loss: 1.237682  [ 9600/50000]\n",
      "Training loop: loss: 1.225714  [12800/50000]\n",
      "Training loop: loss: 1.071196  [16000/50000]\n",
      "Training loop: loss: 1.484774  [19200/50000]\n",
      "Training loop: loss: 1.348509  [22400/50000]\n",
      "Training loop: loss: 1.247971  [25600/50000]\n",
      "Training loop: loss: 1.260790  [28800/50000]\n",
      "Training loop: loss: 1.453744  [32000/50000]\n",
      "Training loop: loss: 1.383654  [35200/50000]\n",
      "Training loop: loss: 1.464964  [38400/50000]\n",
      "Training loop: loss: 1.196352  [41600/50000]\n",
      "Training loop: loss: 1.443586  [44800/50000]\n",
      "Training loop: loss: 1.995707  [48000/50000]\n",
      "Training Accuracy: 52.4%\n",
      "Testing Accuracy: 50.3%, Avg loss: 1.416587 \n",
      "\n",
      "Epoch 19\n",
      "-------------------------------\n",
      "Training loop: loss: 1.382953  [    0/50000]\n",
      "Training loop: loss: 1.351427  [ 3200/50000]\n",
      "Training loop: loss: 1.238539  [ 6400/50000]\n",
      "Training loop: loss: 1.207019  [ 9600/50000]\n",
      "Training loop: loss: 1.217826  [12800/50000]\n",
      "Training loop: loss: 1.054513  [16000/50000]\n",
      "Training loop: loss: 1.470833  [19200/50000]\n",
      "Training loop: loss: 1.325235  [22400/50000]\n",
      "Training loop: loss: 1.232884  [25600/50000]\n",
      "Training loop: loss: 1.255100  [28800/50000]\n",
      "Training loop: loss: 1.440901  [32000/50000]\n",
      "Training loop: loss: 1.377476  [35200/50000]\n",
      "Training loop: loss: 1.440577  [38400/50000]\n",
      "Training loop: loss: 1.184124  [41600/50000]\n",
      "Training loop: loss: 1.432336  [44800/50000]\n",
      "Training loop: loss: 1.993875  [48000/50000]\n",
      "Training Accuracy: 52.8%\n",
      "Testing Accuracy: 50.7%, Avg loss: 1.410330 \n",
      "\n",
      "Epoch 20\n",
      "-------------------------------\n",
      "Training loop: loss: 1.362248  [    0/50000]\n",
      "Training loop: loss: 1.336830  [ 3200/50000]\n",
      "Training loop: loss: 1.239775  [ 6400/50000]\n",
      "Training loop: loss: 1.183549  [ 9600/50000]\n",
      "Training loop: loss: 1.209555  [12800/50000]\n",
      "Training loop: loss: 1.040701  [16000/50000]\n",
      "Training loop: loss: 1.468123  [19200/50000]\n",
      "Training loop: loss: 1.313964  [22400/50000]\n",
      "Training loop: loss: 1.217024  [25600/50000]\n",
      "Training loop: loss: 1.228235  [28800/50000]\n",
      "Training loop: loss: 1.426943  [32000/50000]\n",
      "Training loop: loss: 1.359739  [35200/50000]\n",
      "Training loop: loss: 1.426068  [38400/50000]\n",
      "Training loop: loss: 1.158257  [41600/50000]\n",
      "Training loop: loss: 1.421328  [44800/50000]\n",
      "Training loop: loss: 1.976781  [48000/50000]\n",
      "Training Accuracy: 53.1%\n",
      "Testing Accuracy: 50.7%, Avg loss: 1.404931 \n",
      "\n",
      "Epoch 21\n",
      "-------------------------------\n",
      "Training loop: loss: 1.348995  [    0/50000]\n",
      "Training loop: loss: 1.320508  [ 3200/50000]\n",
      "Training loop: loss: 1.230164  [ 6400/50000]\n",
      "Training loop: loss: 1.173578  [ 9600/50000]\n",
      "Training loop: loss: 1.203727  [12800/50000]\n",
      "Training loop: loss: 1.027321  [16000/50000]\n",
      "Training loop: loss: 1.464272  [19200/50000]\n",
      "Training loop: loss: 1.300526  [22400/50000]\n",
      "Training loop: loss: 1.210707  [25600/50000]\n",
      "Training loop: loss: 1.224184  [28800/50000]\n",
      "Training loop: loss: 1.422548  [32000/50000]\n",
      "Training loop: loss: 1.358153  [35200/50000]\n",
      "Training loop: loss: 1.398398  [38400/50000]\n",
      "Training loop: loss: 1.127516  [41600/50000]\n",
      "Training loop: loss: 1.410197  [44800/50000]\n",
      "Training loop: loss: 1.962335  [48000/50000]\n",
      "Training Accuracy: 53.6%\n",
      "Testing Accuracy: 51.0%, Avg loss: 1.402320 \n",
      "\n",
      "Epoch 22\n",
      "-------------------------------\n",
      "Training loop: loss: 1.321916  [    0/50000]\n",
      "Training loop: loss: 1.310534  [ 3200/50000]\n",
      "Training loop: loss: 1.227663  [ 6400/50000]\n",
      "Training loop: loss: 1.160535  [ 9600/50000]\n",
      "Training loop: loss: 1.190980  [12800/50000]\n",
      "Training loop: loss: 1.015601  [16000/50000]\n",
      "Training loop: loss: 1.451562  [19200/50000]\n",
      "Training loop: loss: 1.292875  [22400/50000]\n",
      "Training loop: loss: 1.183144  [25600/50000]\n",
      "Training loop: loss: 1.207053  [28800/50000]\n",
      "Training loop: loss: 1.396612  [32000/50000]\n",
      "Training loop: loss: 1.355385  [35200/50000]\n",
      "Training loop: loss: 1.394322  [38400/50000]\n",
      "Training loop: loss: 1.107967  [41600/50000]\n",
      "Training loop: loss: 1.406523  [44800/50000]\n",
      "Training loop: loss: 1.946545  [48000/50000]\n",
      "Training Accuracy: 53.9%\n",
      "Testing Accuracy: 50.9%, Avg loss: 1.399539 \n",
      "\n",
      "Epoch 23\n",
      "-------------------------------\n",
      "Training loop: loss: 1.311935  [    0/50000]\n",
      "Training loop: loss: 1.304559  [ 3200/50000]\n",
      "Training loop: loss: 1.207626  [ 6400/50000]\n",
      "Training loop: loss: 1.164791  [ 9600/50000]\n",
      "Training loop: loss: 1.187074  [12800/50000]\n",
      "Training loop: loss: 0.994168  [16000/50000]\n",
      "Training loop: loss: 1.446480  [19200/50000]\n",
      "Training loop: loss: 1.283718  [22400/50000]\n",
      "Training loop: loss: 1.170619  [25600/50000]\n",
      "Training loop: loss: 1.196443  [28800/50000]\n",
      "Training loop: loss: 1.386975  [32000/50000]\n",
      "Training loop: loss: 1.344109  [35200/50000]\n",
      "Training loop: loss: 1.380694  [38400/50000]\n",
      "Training loop: loss: 1.092260  [41600/50000]\n",
      "Training loop: loss: 1.399577  [44800/50000]\n",
      "Training loop: loss: 1.933027  [48000/50000]\n",
      "Training Accuracy: 54.2%\n",
      "Testing Accuracy: 51.2%, Avg loss: 1.391743 \n",
      "\n",
      "Epoch 24\n",
      "-------------------------------\n",
      "Training loop: loss: 1.282224  [    0/50000]\n",
      "Training loop: loss: 1.287940  [ 3200/50000]\n",
      "Training loop: loss: 1.210640  [ 6400/50000]\n",
      "Training loop: loss: 1.135046  [ 9600/50000]\n",
      "Training loop: loss: 1.170575  [12800/50000]\n",
      "Training loop: loss: 0.980887  [16000/50000]\n",
      "Training loop: loss: 1.437918  [19200/50000]\n",
      "Training loop: loss: 1.267083  [22400/50000]\n",
      "Training loop: loss: 1.147619  [25600/50000]\n",
      "Training loop: loss: 1.189901  [28800/50000]\n",
      "Training loop: loss: 1.384157  [32000/50000]\n",
      "Training loop: loss: 1.340125  [35200/50000]\n",
      "Training loop: loss: 1.380482  [38400/50000]\n",
      "Training loop: loss: 1.081955  [41600/50000]\n",
      "Training loop: loss: 1.390236  [44800/50000]\n",
      "Training loop: loss: 1.923929  [48000/50000]\n",
      "Training Accuracy: 54.5%\n",
      "Testing Accuracy: 51.3%, Avg loss: 1.388310 \n",
      "\n",
      "Epoch 25\n",
      "-------------------------------\n",
      "Training loop: loss: 1.261835  [    0/50000]\n",
      "Training loop: loss: 1.287597  [ 3200/50000]\n",
      "Training loop: loss: 1.207623  [ 6400/50000]\n",
      "Training loop: loss: 1.142800  [ 9600/50000]\n",
      "Training loop: loss: 1.165117  [12800/50000]\n",
      "Training loop: loss: 0.973161  [16000/50000]\n",
      "Training loop: loss: 1.432658  [19200/50000]\n",
      "Training loop: loss: 1.260843  [22400/50000]\n",
      "Training loop: loss: 1.141602  [25600/50000]\n",
      "Training loop: loss: 1.165597  [28800/50000]\n",
      "Training loop: loss: 1.370007  [32000/50000]\n",
      "Training loop: loss: 1.336804  [35200/50000]\n",
      "Training loop: loss: 1.370799  [38400/50000]\n",
      "Training loop: loss: 1.068130  [41600/50000]\n",
      "Training loop: loss: 1.372010  [44800/50000]\n",
      "Training loop: loss: 1.931150  [48000/50000]\n",
      "Training Accuracy: 54.9%\n",
      "Testing Accuracy: 51.1%, Avg loss: 1.386739 \n",
      "\n",
      "Epoch 26\n",
      "-------------------------------\n",
      "Training loop: loss: 1.235423  [    0/50000]\n",
      "Training loop: loss: 1.273779  [ 3200/50000]\n",
      "Training loop: loss: 1.182706  [ 6400/50000]\n",
      "Training loop: loss: 1.150456  [ 9600/50000]\n",
      "Training loop: loss: 1.164065  [12800/50000]\n",
      "Training loop: loss: 0.959961  [16000/50000]\n",
      "Training loop: loss: 1.417784  [19200/50000]\n",
      "Training loop: loss: 1.251134  [22400/50000]\n",
      "Training loop: loss: 1.139159  [25600/50000]\n",
      "Training loop: loss: 1.162866  [28800/50000]\n",
      "Training loop: loss: 1.375608  [32000/50000]\n",
      "Training loop: loss: 1.325948  [35200/50000]\n",
      "Training loop: loss: 1.347922  [38400/50000]\n",
      "Training loop: loss: 1.055942  [41600/50000]\n",
      "Training loop: loss: 1.367733  [44800/50000]\n",
      "Training loop: loss: 1.897652  [48000/50000]\n",
      "Training Accuracy: 55.2%\n",
      "Testing Accuracy: 51.1%, Avg loss: 1.383461 \n",
      "\n",
      "Epoch 27\n",
      "-------------------------------\n",
      "Training loop: loss: 1.226576  [    0/50000]\n",
      "Training loop: loss: 1.262653  [ 3200/50000]\n",
      "Training loop: loss: 1.182672  [ 6400/50000]\n",
      "Training loop: loss: 1.145651  [ 9600/50000]\n",
      "Training loop: loss: 1.153069  [12800/50000]\n",
      "Training loop: loss: 0.949145  [16000/50000]\n",
      "Training loop: loss: 1.415632  [19200/50000]\n",
      "Training loop: loss: 1.246254  [22400/50000]\n",
      "Training loop: loss: 1.127668  [25600/50000]\n",
      "Training loop: loss: 1.156215  [28800/50000]\n",
      "Training loop: loss: 1.370950  [32000/50000]\n",
      "Training loop: loss: 1.327276  [35200/50000]\n",
      "Training loop: loss: 1.339552  [38400/50000]\n",
      "Training loop: loss: 1.062315  [41600/50000]\n",
      "Training loop: loss: 1.360807  [44800/50000]\n",
      "Training loop: loss: 1.905039  [48000/50000]\n",
      "Training Accuracy: 55.5%\n",
      "Testing Accuracy: 51.3%, Avg loss: 1.380330 \n",
      "\n",
      "Epoch 28\n",
      "-------------------------------\n",
      "Training loop: loss: 1.210402  [    0/50000]\n",
      "Training loop: loss: 1.262315  [ 3200/50000]\n",
      "Training loop: loss: 1.168143  [ 6400/50000]\n",
      "Training loop: loss: 1.140181  [ 9600/50000]\n",
      "Training loop: loss: 1.144611  [12800/50000]\n",
      "Training loop: loss: 0.943558  [16000/50000]\n",
      "Training loop: loss: 1.402249  [19200/50000]\n",
      "Training loop: loss: 1.243421  [22400/50000]\n",
      "Training loop: loss: 1.123549  [25600/50000]\n",
      "Training loop: loss: 1.136513  [28800/50000]\n",
      "Training loop: loss: 1.359390  [32000/50000]\n",
      "Training loop: loss: 1.316642  [35200/50000]\n",
      "Training loop: loss: 1.340408  [38400/50000]\n",
      "Training loop: loss: 1.050269  [41600/50000]\n",
      "Training loop: loss: 1.358909  [44800/50000]\n",
      "Training loop: loss: 1.886023  [48000/50000]\n",
      "Training Accuracy: 55.7%\n",
      "Testing Accuracy: 51.4%, Avg loss: 1.377683 \n",
      "\n",
      "Epoch 29\n",
      "-------------------------------\n",
      "Training loop: loss: 1.191963  [    0/50000]\n",
      "Training loop: loss: 1.255205  [ 3200/50000]\n",
      "Training loop: loss: 1.157578  [ 6400/50000]\n",
      "Training loop: loss: 1.135687  [ 9600/50000]\n",
      "Training loop: loss: 1.142073  [12800/50000]\n",
      "Training loop: loss: 0.937502  [16000/50000]\n",
      "Training loop: loss: 1.402197  [19200/50000]\n",
      "Training loop: loss: 1.230346  [22400/50000]\n",
      "Training loop: loss: 1.128295  [25600/50000]\n",
      "Training loop: loss: 1.115997  [28800/50000]\n",
      "Training loop: loss: 1.350765  [32000/50000]\n",
      "Training loop: loss: 1.309877  [35200/50000]\n",
      "Training loop: loss: 1.310452  [38400/50000]\n",
      "Training loop: loss: 1.041028  [41600/50000]\n",
      "Training loop: loss: 1.347291  [44800/50000]\n",
      "Training loop: loss: 1.860268  [48000/50000]\n",
      "Training Accuracy: 56.0%\n",
      "Testing Accuracy: 51.1%, Avg loss: 1.375730 \n",
      "\n",
      "Epoch 30\n",
      "-------------------------------\n",
      "Training loop: loss: 1.186786  [    0/50000]\n",
      "Training loop: loss: 1.251890  [ 3200/50000]\n",
      "Training loop: loss: 1.161915  [ 6400/50000]\n",
      "Training loop: loss: 1.135960  [ 9600/50000]\n",
      "Training loop: loss: 1.138464  [12800/50000]\n",
      "Training loop: loss: 0.930035  [16000/50000]\n",
      "Training loop: loss: 1.402070  [19200/50000]\n",
      "Training loop: loss: 1.218904  [22400/50000]\n",
      "Training loop: loss: 1.122006  [25600/50000]\n",
      "Training loop: loss: 1.103178  [28800/50000]\n",
      "Training loop: loss: 1.344990  [32000/50000]\n",
      "Training loop: loss: 1.314666  [35200/50000]\n",
      "Training loop: loss: 1.314862  [38400/50000]\n",
      "Training loop: loss: 1.031186  [41600/50000]\n",
      "Training loop: loss: 1.338085  [44800/50000]\n",
      "Training loop: loss: 1.851170  [48000/50000]\n",
      "Training Accuracy: 56.2%\n",
      "Testing Accuracy: 51.2%, Avg loss: 1.376669 \n",
      "\n",
      "Done!\n"
     ]
    }
   ],
   "source": [
    "for t in range(epochs):\n",
    "    print(f\"Epoch {t+1}\\n-------------------------------\")\n",
    "    train_loop(train_dataloader, model, loss_fn, optimizer)\n",
    "    test_loop(test_dataloader, model, loss_fn)\n",
    "print(\"Done!\")"
   ]
  },
  {
   "cell_type": "markdown",
   "id": "9d2ca7b1",
   "metadata": {
    "id": "9d2ca7b1"
   },
   "source": [
    "## <font size='5'>**III) Fine Tuning Hyperparameters**</font>"
   ]
  },
  {
   "cell_type": "markdown",
   "id": "vtmexjmGFYTR",
   "metadata": {
    "id": "vtmexjmGFYTR",
    "tags": []
   },
   "source": [
    "Adjusting the hyperparameters and gaining a deeper understanding of how they impact the ultimate performance is a substantial aspect of working with neural networks. Therefore, we encourage you to gain practical experience in this regard."
   ]
  },
  {
   "cell_type": "markdown",
   "id": "7f79ae32",
   "metadata": {
    "id": "7f79ae32"
   },
   "source": [
    "In this task, your goal is to play around with different settings for various options like layer size, batch size, learning rate. You should also experiment with optimizer hyperparameters including momentum, weight decay and more.\n",
    "\n",
    "To understand how these choices affect your model's performance, you'll create at least three graphs. Each graph will show how changing one of these options (except for epochs) impacts how well your model learns and predicts."
   ]
  },
  {
   "cell_type": "markdown",
   "id": "x719wW9FIynX",
   "metadata": {
    "id": "x719wW9FIynX"
   },
   "source": [
    "## <font size='4'>**Example** - We've given you an example code for changing number of epochs so you can see how it's done.</font>"
   ]
  },
  {
   "cell_type": "code",
   "execution_count": 11,
   "id": "olcxRr7T8bpj",
   "metadata": {
    "colab": {
     "base_uri": "https://localhost:8080/",
     "height": 447
    },
    "id": "olcxRr7T8bpj",
    "outputId": "410d5a5a-e219-4039-a564-a96becddf40b"
   },
   "outputs": [
    {
     "name": "stdout",
     "output_type": "stream",
     "text": [
      "Done!\n"
     ]
    },
    {
     "data": {
      "image/png": "[encoded data removed]",
      "text/plain": [
       "<Figure size 432x288 with 1 Axes>"
      ]
     },
     "metadata": {
      "needs_background": "light"
     },
     "output_type": "display_data"
    }
   ],
   "source": [
    "learning_rate = 1e-3\n",
    "batch_size = 64\n",
    "epochs = [1, 5, 10, 15, 20, 25]\n",
    "momentum = 0\n",
    "weight_decay = 0\n",
    "dampening = 0\n",
    "\n",
    "# Train and Test\n",
    "test_accs = []\n",
    "test_losses = []\n",
    "training_accs = []\n",
    "for e in epochs: #Would change this to reflect whatever hyperparameter you would be testing\n",
    "    # Model\n",
    "    model = CIFAR10Classifier(input_size, hidden_size, num_classes).to(device)\n",
    "    model.requires_grad_(True)\n",
    "    # Optimizer\n",
    "    optimizer = torch.optim.SGD(model.parameters(),\n",
    "                            lr = learning_rate,\n",
    "                            momentum = momentum,\n",
    "                            weight_decay = weight_decay,\n",
    "                            dampening = dampening)\n",
    "    # Loss Func\n",
    "    loss_fn = nn.CrossEntropyLoss()\n",
    "    # Dataloaders\n",
    "    train_dataloader = DataLoader(train_data, batch_size=batch_size)\n",
    "    test_dataloader = DataLoader(test_data, batch_size=batch_size)\n",
    "    final_train_acc = 0\n",
    "    final_test_acc = 0\n",
    "    final_test_loss = 0\n",
    "    for t in range(e):\n",
    "        # print(f\"Currently running epoch {t+1}\")\n",
    "        training_acc = train_loop(train_dataloader, model, loss_fn, optimizer, print_log=False)\n",
    "        testing_acc, test_loss =  test_loop(test_dataloader, model, loss_fn, print_log=False)\n",
    "        final_test_acc = testing_acc\n",
    "        final_test_loss = test_loss\n",
    "        final_train_acc = training_acc\n",
    "    test_accs.append(final_test_acc)\n",
    "    test_losses.append(final_test_loss)\n",
    "    training_accs.append(final_train_acc)\n",
    "plt.plot(epochs,test_losses, color ='tab:red', label='testing loss')\n",
    "plt.plot(epochs,test_accs, color ='tab:blue', label='testing accuracy')\n",
    "plt.plot(epochs,training_accs, color ='tab:green', label='training accuracy')\n",
    "plt.legend()\n",
    "print(\"Done!\")"
   ]
  },
  {
   "cell_type": "markdown",
   "id": "w7Zi1npqHU7B",
   "metadata": {
    "id": "w7Zi1npqHU7B"
   },
   "source": [
    "<font size='4' color='Red'>Task 1.3 - Experiment 1 (2 point)</font>"
   ]
  },
  {
   "cell_type": "markdown",
   "id": "cd5IJznoH60y",
   "metadata": {
    "id": "cd5IJznoH60y"
   },
   "source": [
    "$$\\text{I am tuning learning_rate hyperparameter for better performance}$$"
   ]
  },
  {
   "cell_type": "code",
   "execution_count": 12,
   "id": "52541f8e-616d-4c38-8813-016416bed5b5",
   "metadata": {},
   "outputs": [
    {
     "name": "stdout",
     "output_type": "stream",
     "text": [
      "Done!\n"
     ]
    },
    {
     "data": {
      "image/png": "[encoded data removed]",
      "text/plain": [
       "<Figure size 432x288 with 1 Axes>"
      ]
     },
     "metadata": {
      "needs_background": "light"
     },
     "output_type": "display_data"
    }
   ],
   "source": [
    "learning_rates = [1e-2, 1e-3, 1e-4, 1e-5]\n",
    "batch_size = 64\n",
    "epochs = 25\n",
    "momentum = 0\n",
    "weight_decay = 0\n",
    "dampening = 0\n",
    "\n",
    "# Train and Test\n",
    "test_accs = []\n",
    "test_losses = []\n",
    "training_accs = []\n",
    "\n",
    "# Define your CIFAR10Classifier model here\n",
    "model = CIFAR10Classifier(input_size, hidden_size, num_classes).to(device)\n",
    "model.requires_grad_(True)\n",
    "\n",
    "# Loss Function\n",
    "loss_fn = nn.CrossEntropyLoss()\n",
    "\n",
    "# Dataloaders\n",
    "train_dataloader = DataLoader(train_data, batch_size=batch_size)\n",
    "test_dataloader = DataLoader(test_data, batch_size=batch_size)\n",
    "\n",
    "for lr in learning_rates:\n",
    "    # Optimizer (create a new optimizer for each learning rate)\n",
    "    optimizer = torch.optim.SGD(model.parameters(),\n",
    "                                lr=lr,\n",
    "                                momentum=momentum,\n",
    "                                weight_decay=weight_decay,\n",
    "                                dampening=dampening)\n",
    "\n",
    "    final_train_acc = 0\n",
    "    final_test_acc = 0\n",
    "    final_test_loss = 0\n",
    "\n",
    "    for epoch in range(epochs):\n",
    "        training_acc = train_loop(train_dataloader, model, loss_fn, optimizer, print_log=False)\n",
    "        testing_acc, test_loss = test_loop(test_dataloader, model, loss_fn, print_log=False)\n",
    "\n",
    "        final_test_acc = testing_acc\n",
    "        final_test_loss = test_loss\n",
    "        final_train_acc = training_acc\n",
    "\n",
    "    test_accs.append(final_test_acc)\n",
    "    test_losses.append(final_test_loss)\n",
    "    training_accs.append(final_train_acc)\n",
    "\n",
    "plt.plot(learning_rates, test_losses, color='tab:red', label='testing loss')\n",
    "plt.plot(learning_rates, test_accs, color='tab:blue', label='testing accuracy')\n",
    "plt.plot(learning_rates, training_accs, color='tab:green', label='training accuracy')\n",
    "plt.xscale('log')\n",
    "plt.legend()\n",
    "print(\"Done!\")"
   ]
  },
  {
   "cell_type": "markdown",
   "id": "qnsKis_dLoGW",
   "metadata": {
    "id": "qnsKis_dLoGW"
   },
   "source": []
  },
  {
   "cell_type": "markdown",
   "id": "bCXoR1dtIVqE",
   "metadata": {
    "id": "bCXoR1dtIVqE"
   },
   "source": [
    "<font size='4' color='Red'>Task 1.3 - Experiment 2 (2 point)</font>"
   ]
  },
  {
   "cell_type": "markdown",
   "id": "NBR25sGzIaqE",
   "metadata": {
    "id": "NBR25sGzIaqE"
   },
   "source": [
    "$$\\text{I am tuning batch_size hyperparameter for better performance}$$"
   ]
  },
  {
   "cell_type": "code",
   "execution_count": 13,
   "id": "7Xm_gZhsIaqP",
   "metadata": {
    "id": "7Xm_gZhsIaqP"
   },
   "outputs": [
    {
     "name": "stdout",
     "output_type": "stream",
     "text": [
      "Done!\n"
     ]
    },
    {
     "data": {
      "image/png": "[encoded data removed]",
      "text/plain": [
       "<Figure size 432x288 with 1 Axes>"
      ]
     },
     "metadata": {
      "needs_background": "light"
     },
     "output_type": "display_data"
    }
   ],
   "source": [
    "learning_rate = 1e-3\n",
    "batch_sizes = [16, 32, 64, 128]\n",
    "epochs = 25\n",
    "momentum = 0\n",
    "weight_decay = 0\n",
    "dampening = 0\n",
    "test_accs = []\n",
    "test_losses = []\n",
    "training_accs = []\n",
    "\n",
    "# Loop over different batch sizes\n",
    "for batch_size in batch_sizes:\n",
    "    # Define your CIFAR10Classifier model here\n",
    "    model = CIFAR10Classifier(input_size, hidden_size, num_classes).to(device)\n",
    "    model.requires_grad_(True)\n",
    "    \n",
    "    # Optimizer (create a new optimizer for each batch size)\n",
    "    optimizer = torch.optim.SGD(model.parameters(),\n",
    "                                lr=learning_rate,\n",
    "                                momentum=momentum,\n",
    "                                weight_decay=weight_decay,\n",
    "                                dampening=dampening)\n",
    "    \n",
    "    final_train_acc = 0\n",
    "    final_test_acc = 0\n",
    "    final_test_loss = 0\n",
    "    \n",
    "    # Dataloaders with the current batch size\n",
    "    train_dataloader = DataLoader(train_data, batch_size=batch_size)\n",
    "    test_dataloader = DataLoader(test_data, batch_size=batch_size)\n",
    "    \n",
    "    for epoch in range(epochs):\n",
    "        training_acc = train_loop(train_dataloader, model, loss_fn, optimizer, print_log=False)\n",
    "        testing_acc, test_loss = test_loop(test_dataloader, model, loss_fn, print_log=False)\n",
    "        \n",
    "        final_test_acc = testing_acc\n",
    "        final_test_loss = test_loss\n",
    "        final_train_acc = training_acc\n",
    "    \n",
    "    # Append results for the current batch size\n",
    "    test_accs.append(final_test_acc)\n",
    "    test_losses.append(final_test_loss)\n",
    "    training_accs.append(final_train_acc)\n",
    "\n",
    "# Now, you can plot the results for different batch sizes\n",
    "plt.plot(batch_sizes, test_losses, color='tab:red', label='testing loss')\n",
    "plt.plot(batch_sizes, test_accs, color='tab:blue', label='testing accuracy')\n",
    "plt.plot(batch_sizes, training_accs, color='tab:green', label='training accuracy')\n",
    "plt.xscale('log')\n",
    "plt.legend()\n",
    "print(\"Done!\")"
   ]
  },
  {
   "cell_type": "markdown",
   "id": "RXVjjad0IhZs",
   "metadata": {
    "id": "RXVjjad0IhZs"
   },
   "source": [
    "<font size='4' color='Red'>Task 1.4 - Experiment 3 (2 point)</font>"
   ]
  },
  {
   "cell_type": "markdown",
   "id": "6NZyqrBXIhZs",
   "metadata": {
    "id": "6NZyqrBXIhZs"
   },
   "source": [
    "$$\\text{I am tuning momentum hyperparameter for better performance}$$"
   ]
  },
  {
   "cell_type": "code",
   "execution_count": 14,
   "id": "XytrrMb3IhZs",
   "metadata": {
    "id": "XytrrMb3IhZs"
   },
   "outputs": [
    {
     "name": "stdout",
     "output_type": "stream",
     "text": [
      "Done!\n"
     ]
    },
    {
     "data": {
      "image/png": "[encoded data removed]",
      "text/plain": [
       "<Figure size 432x288 with 1 Axes>"
      ]
     },
     "metadata": {
      "needs_background": "light"
     },
     "output_type": "display_data"
    }
   ],
   "source": [
    "learning_rates = 1e-3\n",
    "batch_size = 64\n",
    "epochs = 25\n",
    "momentums = [0.0, 0.25, 0.50, 0.75, 0.99]\n",
    "weight_decay = 0\n",
    "dampening = 0\n",
    "\n",
    "# Train and Test\n",
    "test_accs = []\n",
    "test_losses = []\n",
    "training_accs = []\n",
    "\n",
    "# Define your CIFAR10Classifier model here\n",
    "model = CIFAR10Classifier(input_size, hidden_size, num_classes).to(device)\n",
    "model.requires_grad_(True)\n",
    "\n",
    "# Loss Function\n",
    "loss_fn = nn.CrossEntropyLoss()\n",
    "\n",
    "# Dataloaders\n",
    "train_dataloader = DataLoader(train_data, batch_size=batch_size)\n",
    "test_dataloader = DataLoader(test_data, batch_size=batch_size)\n",
    "\n",
    "for momentum in momentums:\n",
    "    # Optimizer (create a new optimizer for each learning rate)\n",
    "    optimizer = torch.optim.SGD(model.parameters(),\n",
    "                                lr = learning_rate,\n",
    "                                momentum = momentum,\n",
    "                                weight_decay = weight_decay,\n",
    "                                dampening = dampening)\n",
    "\n",
    "    final_train_acc = 0\n",
    "    final_test_acc = 0\n",
    "    final_test_loss = 0\n",
    "\n",
    "    for epoch in range(epochs):\n",
    "        training_acc = train_loop(train_dataloader, model, loss_fn, optimizer, print_log=False)\n",
    "        testing_acc, test_loss = test_loop(test_dataloader, model, loss_fn, print_log=False)\n",
    "\n",
    "        final_test_acc = testing_acc\n",
    "        final_test_loss = test_loss\n",
    "        final_train_acc = training_acc\n",
    "\n",
    "    test_accs.append(final_test_acc)\n",
    "    test_losses.append(final_test_loss)\n",
    "    training_accs.append(final_train_acc)\n",
    "\n",
    "plt.plot(momentums, test_losses, color='tab:red', label='testing loss')\n",
    "plt.plot(momentums, test_accs, color='tab:blue', label='testing accuracy')\n",
    "plt.plot(momentums, training_accs, color='tab:green', label='training accuracy')\n",
    "plt.legend()\n",
    "print(\"Done!\")"
   ]
  },
  {
   "cell_type": "code",
   "execution_count": null,
   "id": "871cdfd7-3d41-45f4-a807-5531d8f9c452",
   "metadata": {},
   "outputs": [],
   "source": []
  }
 ],
 "metadata": {
  "accelerator": "GPU",
  "colab": {
   "gpuType": "T4",
   "provenance": []
  },
  "kernelspec": {
   "display_name": "Python 3 (ipykernel)",
   "language": "python",
   "name": "python3"
  },
  "language_info": {
   "codemirror_mode": {
    "name": "ipython",
    "version": 3
   },
   "file_extension": ".py",
   "mimetype": "text/x-python",
   "name": "python",
   "nbconvert_exporter": "python",
   "pygments_lexer": "ipython3",
   "version": "3.9.12"
  }
 },
 "nbformat": 4,
 "nbformat_minor": 5
}
